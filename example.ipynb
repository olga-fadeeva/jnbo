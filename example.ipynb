{
 "cells": [
  {
   "cell_type": "code",
   "execution_count": null,
   "metadata": {},
   "outputs": [],
   "source": [
    "#Импортируем библиотеки\n",
    "import pandas as pd\n",
    "import numpy as np\n",
    "import pyodbc\n",
    "import os\n",
    "import re\n",
    "from datetime import date, time, timedelta, datetime\n",
    "import datetime as dt"
   ]
  },
  {
   "cell_type": "code",
   "execution_count": null,
   "metadata": {},
   "outputs": [],
   "source": [
    "#Задаем функцию для выгрузки данных\n",
    "def load_from_db(file, sql_request = ''):\n",
    "    if sql_request:\n",
    "        sql_request = re.sub(r'\\s+', ' ', sql_request)\n",
    "        sql_request = re.sub(r'\\t+', ' ', sql_request)\n",
    "        print(sql_request)\n",
    "        \n",
    "        sql_time = datetime.now()\n",
    "        print(datetime.now())\n",
    "        df = pd.read_sql_query(sql_request, pyodbc.connect('DSN=;UID=;PWD=', autocommit=True))\n",
    "        sql_time = datetime.now() - sql_time\n",
    "        print(sql_time)\n",
    "        f = open('Logs_sql_request.txt', 'a')\n",
    "        f.write(str(sql_time) +' rows='+str(df.shape[0])+' '+sql_request+'\\n')\n",
    "        f.close()\n",
    "        df.to_csv(file+\".csv\",index=False,sep=';')\n",
    "        print(datetime.now())\n",
    "\n",
    "    return df\n"
   ]
  },
  {
   "cell_type": "markdown",
   "metadata": {},
   "source": [
    "**Часть 1**\n",
    "\n",
    "\n",
    "По ТК из файла выгружаем информацию о клиентах ,чеках, продажах. Цель - найти перечесения клиентов внутри кластера в разрезе группы закупок."
   ]
  },
  {
   "cell_type": "code",
   "execution_count": null,
   "metadata": {},
   "outputs": [],
   "source": [
    "#Читаем файл со списком ТК\n",
    "tk = pd.read_excel(r'C:\\Users\\olga.e.fadeeva\\Desktop\\Выгрузки\\Список ТК.xlsx')"
   ]
  },
  {
   "cell_type": "code",
   "execution_count": null,
   "metadata": {},
   "outputs": [],
   "source": [
    "#Список ТК для запроса\n",
    "tk_list = tuple(tk['ТК'].tolist())"
   ]
  },
  {
   "cell_type": "code",
   "execution_count": null,
   "metadata": {},
   "outputs": [],
   "source": [
    "#Задаем границы периода\n",
    "start = '20210524'\n",
    "end = '20210725' "
   ]
  },
  {
   "cell_type": "code",
   "execution_count": null,
   "metadata": {},
   "outputs": [],
   "source": [
    "#Запрос\n",
    "sql = '''\n",
    "SELECT  t_mat.`/bic/agrsaldir` direction,\n",
    "        t_mat.`/bic/apur_grp` grup,\n",
    "        tt1.`/bic/client` client,\n",
    "        tt1.plant TK,\n",
    "        COUNT(distinct tt1.check_id) check_count,\n",
    "        SUM(tt1.rtsaexc) sales,\n",
    "        cl_ch.cl_checks total_checks\n",
    "        \n",
    "        from rdw.rec_itm tt1\n",
    "        \n",
    "join rdw.bi0_pmaterial t_mat on tt1.material=t_mat.material\n",
    "\n",
    "join (select `/bic/client`,\n",
    "             count(distinct check_id) cl_checks\n",
    "            from rdw.rec_itm where cast(plant as int) in {0} \n",
    "            and calday between {1} and {2}  \n",
    "            group by `/bic/client`) cl_ch\n",
    "            on tt1.`/bic/client`=cl_ch.`/bic/client`\n",
    "        \n",
    "where cast(tt1.plant as int) in {0} \n",
    "and tt1.calday between {1} and {2}    \n",
    " group by t_mat.`/bic/agrsaldir`,\n",
    "        t_mat.`/bic/apur_grp`,\n",
    "         tt1.`/bic/client`,\n",
    "         cl_ch.cl_checks,\n",
    "          tt1.plant\n",
    "    \n",
    "'''.format(tk_list, start, end)"
   ]
  },
  {
   "cell_type": "code",
   "execution_count": null,
   "metadata": {},
   "outputs": [],
   "source": [
    "df1 = load_from_db(\"tk_res_1\", sql)"
   ]
  },
  {
   "cell_type": "code",
   "execution_count": null,
   "metadata": {},
   "outputs": [],
   "source": [
    "df1.head()"
   ]
  },
  {
   "cell_type": "code",
   "execution_count": null,
   "metadata": {},
   "outputs": [],
   "source": [
    "df_for_analysis.shape"
   ]
  },
  {
   "cell_type": "code",
   "execution_count": null,
   "metadata": {},
   "outputs": [],
   "source": [
    "#Убираем клиентов с 1 чеком\n",
    "df_for_analysis = df1.query('total_checks>1')"
   ]
  },
  {
   "cell_type": "code",
   "execution_count": null,
   "metadata": {},
   "outputs": [],
   "source": [
    "df_for_analysis['tk'] = df_for_analysis['tk'].astype('int')"
   ]
  },
  {
   "cell_type": "code",
   "execution_count": null,
   "metadata": {},
   "outputs": [],
   "source": [
    "cluster6 = tuple(tk.query('Cluster==\"cluster 6\"')['ТК'].tolist())"
   ]
  },
  {
   "cell_type": "markdown",
   "metadata": {},
   "source": [
    "Пример на 1 группе закупок:"
   ]
  },
  {
   "cell_type": "code",
   "execution_count": null,
   "metadata": {},
   "outputs": [],
   "source": [
    "df_P01 = df_for_analysis.query('grup==\"P01\" & tk in @cluster6')"
   ]
  },
  {
   "cell_type": "code",
   "execution_count": null,
   "metadata": {},
   "outputs": [],
   "source": [
    "#Смотрим пересечения\n",
    "df_P01_merged = df_P01.merge(df_P01, on='client')\n",
    "res_P01 = pd.crosstab(df_P01_merged.tk_x, df_P01_merged.tk_y)"
   ]
  },
  {
   "cell_type": "code",
   "execution_count": null,
   "metadata": {},
   "outputs": [],
   "source": [
    "res_P01.head()"
   ]
  },
  {
   "cell_type": "markdown",
   "metadata": {},
   "source": [
    "Общее количество клиентов каждого ТК - сохраняем в файл (понадобится для расчета долей)"
   ]
  },
  {
   "cell_type": "code",
   "execution_count": null,
   "metadata": {},
   "outputs": [],
   "source": [
    "clients_number_tk = df_for_analysis.groupby('tk').client.nunique()"
   ]
  },
  {
   "cell_type": "code",
   "execution_count": null,
   "metadata": {},
   "outputs": [],
   "source": [
    "clients_number_tk.to_excel(r'C:\\Users\\olga.e.fadeeva\\Desktop\\Выгрузки\\clients_number_tk.xlsx')"
   ]
  },
  {
   "cell_type": "code",
   "execution_count": null,
   "metadata": {},
   "outputs": [],
   "source": [
    "grp_list = tuple(df_for_analysis.grp.unique().tolist())"
   ]
  },
  {
   "cell_type": "markdown",
   "metadata": {},
   "source": [
    "Выгружаем данные для кластера"
   ]
  },
  {
   "cell_type": "code",
   "execution_count": null,
   "metadata": {},
   "outputs": [],
   "source": [
    "for grp in grp_list:\n",
    "    df_gz = df_for_analysis.query('grup==@grp & tk in @cluster6')\n",
    "    df_gz1 = df_gz.merge(df_gz, on='client')\n",
    "    pd.crosstab(df_gz1.tk_x, df_gz1.tk_y).to_excel(r'C:\\Users\\olga.e.fadeeva\\Desktop\\Выгрузки\\{0}.xlsx'.format(grp))"
   ]
  },
  {
   "cell_type": "markdown",
   "metadata": {},
   "source": [
    "Объединяем данные из файлов в 1 датафрейм"
   ]
  },
  {
   "cell_type": "code",
   "execution_count": null,
   "metadata": {},
   "outputs": [],
   "source": [
    "Path=r\"C:\\Users\\olga.e.fadeeva\\Desktop\\Выгрузки\\1\"\n",
    "files_list = os.listdir(path=Path)"
   ]
  },
  {
   "cell_type": "code",
   "execution_count": null,
   "metadata": {},
   "outputs": [],
   "source": [
    "df = []\n",
    "for file in files_list:\n",
    "    df_buf = pd.read_excel(f\"{Path}/\"+file)\n",
    "    df_buf['grp'] = file[:3]\n",
    "    df.append(df_buf)\n",
    "    \n",
    "df = pd.concat(df, ignore_index=True)"
   ]
  },
  {
   "cell_type": "code",
   "execution_count": null,
   "metadata": {},
   "outputs": [],
   "source": [
    "df.fillna(0)"
   ]
  },
  {
   "cell_type": "code",
   "execution_count": null,
   "metadata": {},
   "outputs": [],
   "source": [
    "df.to_excel(r'C:\\Users\\olga.e.fadeeva\\Desktop\\Выгрузки\\cluster6.xlsx')"
   ]
  },
  {
   "cell_type": "markdown",
   "metadata": {},
   "source": [
    "**Часть 2**\n",
    "\n",
    "Выявляем пересечения клиентов между всеми ТК СПб и ЛО, без групп закупок."
   ]
  },
  {
   "cell_type": "code",
   "execution_count": null,
   "metadata": {},
   "outputs": [],
   "source": [
    "spb_LO = pd.read_excel(r'C:\\Users\\olga.e.fadeeva\\Desktop\\Выгрузки\\tk_spb_lo.xlsx')"
   ]
  },
  {
   "cell_type": "code",
   "execution_count": null,
   "metadata": {},
   "outputs": [],
   "source": [
    "#Список ТК для запроса\n",
    "spb_list = tuple(spb_LO['tk'].tolist())"
   ]
  },
  {
   "cell_type": "code",
   "execution_count": null,
   "metadata": {},
   "outputs": [],
   "source": [
    "sql = '''\n",
    "SELECT  tt1.`/bic/client` client,\n",
    "        tt1.plant TK,\n",
    "        COUNT(distinct tt1.check_id) check_count,\n",
    "        SUM(tt1.rtsaexc) sales,\n",
    "        cl_ch.cl_checks total_checks\n",
    "        \n",
    "        from rdw.rec_itm tt1\n",
    "\n",
    "join (select `/bic/client`,\n",
    "             count(distinct check_id) cl_checks\n",
    "            from rdw.rec_itm where cast(plant as int) in {0} \n",
    "            and calday between {1} and {2}\n",
    "            group by `/bic/client`) cl_ch\n",
    "            on tt1.`/bic/client`=cl_ch.`/bic/client`\n",
    "        \n",
    "where cast(tt1.plant as int) in {0} \n",
    "and tt1.calday between {1} and {2}    \n",
    " group by tt1.`/bic/client`,\n",
    "         cl_ch.cl_checks,\n",
    "          tt1.plant\n",
    "    \n",
    "'''.format(spb_list, start, end)"
   ]
  },
  {
   "cell_type": "code",
   "execution_count": null,
   "metadata": {},
   "outputs": [],
   "source": [
    "df_spb = load_from_db(\"spb_lo\", sql)"
   ]
  },
  {
   "cell_type": "code",
   "execution_count": null,
   "metadata": {},
   "outputs": [],
   "source": [
    "#Убираем клиентов с 1 чеком\n",
    "df_spb_filtered = df_spb.query('total_checks>1')"
   ]
  },
  {
   "cell_type": "code",
   "execution_count": null,
   "metadata": {},
   "outputs": [],
   "source": [
    "#Смотрим пересечения\n",
    "df_spb_merged = df_spb_filtered.merge(df_spb_filtered, on='client')\n",
    "res_spb = pd.crosstab(df_spb_merged.tk_x, df_spb_merged.tk_y)"
   ]
  },
  {
   "cell_type": "code",
   "execution_count": null,
   "metadata": {},
   "outputs": [],
   "source": [
    "res_spb.head()"
   ]
  },
  {
   "cell_type": "code",
   "execution_count": null,
   "metadata": {},
   "outputs": [],
   "source": [
    "res_spb.to_excel(r'C:\\Users\\olga.e.fadeeva\\Desktop\\Выгрузки\\res_spb.xlsx')"
   ]
  },
  {
   "cell_type": "code",
   "execution_count": null,
   "metadata": {},
   "outputs": [],
   "source": [
    "#Общее количество клиентов каждого ТК\n",
    "clients_number_tk_spb = df_spb_filtered.groupby('tk').client.nunique()"
   ]
  },
  {
   "cell_type": "code",
   "execution_count": null,
   "metadata": {},
   "outputs": [],
   "source": [
    "clients_number_tk_spb.to_excel(r'C:\\Users\\olga.e.fadeeva\\Desktop\\Выгрузки\\total_clients_spb.xlsx')"
   ]
  },
  {
   "cell_type": "code",
   "execution_count": null,
   "metadata": {},
   "outputs": [],
   "source": []
  }
 ],
 "metadata": {
  "kernelspec": {
   "display_name": "Python 3",
   "language": "python",
   "name": "python3"
  },
  "language_info": {
   "codemirror_mode": {
    "name": "ipython",
    "version": 3
   },
   "file_extension": ".py",
   "mimetype": "text/x-python",
   "name": "python",
   "nbconvert_exporter": "python",
   "pygments_lexer": "ipython3",
   "version": "3.8.5"
  }
 },
 "nbformat": 4,
 "nbformat_minor": 4
}
