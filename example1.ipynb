{
 "cells": [
  {
   "cell_type": "markdown",
   "metadata": {},
   "source": [
    "## Анализ данных о приложениях"
   ]
  },
  {
   "cell_type": "markdown",
   "metadata": {},
   "source": [
    "Имеем 2 файла с информацией о приложениях: \n",
    "1. **googleplaystore.csv** (информация о приложениях) содержит поля:\n",
    "\n",
    "* App – название приложения\n",
    "* Category – категория приложения\n",
    "* Rating – средний рейтинг приложения\n",
    "* Reviews – количество отзывов пользователей на приложение\n",
    "* Size – размер приложения\n",
    "* Installs – количество загрузок/установок приложения\n",
    "* Type – тип приложения (платное/бесплатное)\n",
    "* Price – цена приложения\n",
    "* Content Rating – возрастной ценз\n",
    "* Genres – жанры приложения (может содержать несколько значений, разделенных точкой с запятой)\n",
    "* Last Updated – дата последнего обновления приложения\n",
    "* Current Ver – текущая версия приложения\n",
    "* Android Ver – требуемая версия Android\n",
    "2. **googleplaystore_user_reviews.csv** (информация об отзывах) содержит поля:\n",
    "* App – название приложения\n",
    "* Translated Review – текст отзыва на английском языке\n",
    "* Sentiment – эмоциональный окрас отзыва\n",
    "* Sentiment_Polarity – скор полярности отзыва\n",
    "* Sentiment_Subjectivity – скор субъективности отзыва\n"
   ]
  },
  {
   "cell_type": "code",
   "execution_count": 517,
   "metadata": {},
   "outputs": [],
   "source": [
    "# Импортируем библиотеки\n",
    "import pandas as pd\n",
    "import numpy as np\n",
    "import seaborn as sns\n",
    "import matplotlib.pyplot as plt\n",
    "%matplotlib inline\n",
    "from scipy import stats\n",
    "from scipy.stats import mannwhitneyu\n",
    "plt.rcParams['figure.figsize'] = (8, 5)"
   ]
  },
  {
   "cell_type": "code",
   "execution_count": 518,
   "metadata": {},
   "outputs": [],
   "source": [
    "# Прочитаем данные\n",
    "apps_df = pd.read_csv(r'H:\\Ofiles\\Data_analysis\\Лента\\Тестовое задание\\google-play-store-apps\\googleplaystore.csv')\n",
    "reviews_df   = pd.read_csv(r'H:\\Ofiles\\Data_analysis\\Лента\\Тестовое задание\\google-play-store-apps\\googleplaystore_user_reviews.csv')"
   ]
  },
  {
   "cell_type": "markdown",
   "metadata": {},
   "source": [
    "### 1. Очистка данных и преобразования для последующего анализа"
   ]
  },
  {
   "cell_type": "markdown",
   "metadata": {},
   "source": [
    "Проведем предобработку данных в каждом из датафреймов. Для этого выполним следующие шаги:\n",
    "\n",
    "1. посмотрим на head() таблицы\n",
    "2. просмотрим общую информацию о датафрейме при помощи метода info() - получим информацию о типах данных и пропусках\n",
    "3. названия столбцов приведем к формату, удобному для обращения: нижний регистр, нижнее подчеркивание вместо пробела\n",
    "4. категориальные переменные также приведем к нижнему регистру, так как это возможный источник скрытых дубликатов\n",
    "3. обработаем пропуски, в зависимости от их характера\n",
    "4. проверим на наличие дубликатов и при необходимости избавимся от них\n",
    "5. поменяем тип данных для столбцов, содержащих численные данные и информацию о дате"
   ]
  },
  {
   "cell_type": "code",
   "execution_count": 519,
   "metadata": {},
   "outputs": [
    {
     "data": {
      "text/html": [
       "<div>\n",
       "<style scoped>\n",
       "    .dataframe tbody tr th:only-of-type {\n",
       "        vertical-align: middle;\n",
       "    }\n",
       "\n",
       "    .dataframe tbody tr th {\n",
       "        vertical-align: top;\n",
       "    }\n",
       "\n",
       "    .dataframe thead th {\n",
       "        text-align: right;\n",
       "    }\n",
       "</style>\n",
       "<table border=\"1\" class=\"dataframe\">\n",
       "  <thead>\n",
       "    <tr style=\"text-align: right;\">\n",
       "      <th></th>\n",
       "      <th>App</th>\n",
       "      <th>Category</th>\n",
       "      <th>Rating</th>\n",
       "      <th>Reviews</th>\n",
       "      <th>Size</th>\n",
       "      <th>Installs</th>\n",
       "      <th>Type</th>\n",
       "      <th>Price</th>\n",
       "      <th>Content Rating</th>\n",
       "      <th>Genres</th>\n",
       "      <th>Last Updated</th>\n",
       "      <th>Current Ver</th>\n",
       "      <th>Android Ver</th>\n",
       "    </tr>\n",
       "  </thead>\n",
       "  <tbody>\n",
       "    <tr>\n",
       "      <th>0</th>\n",
       "      <td>Photo Editor &amp; Candy Camera &amp; Grid &amp; ScrapBook</td>\n",
       "      <td>ART_AND_DESIGN</td>\n",
       "      <td>4.1</td>\n",
       "      <td>159</td>\n",
       "      <td>19M</td>\n",
       "      <td>10,000+</td>\n",
       "      <td>Free</td>\n",
       "      <td>0</td>\n",
       "      <td>Everyone</td>\n",
       "      <td>Art &amp; Design</td>\n",
       "      <td>January 7, 2018</td>\n",
       "      <td>1.0.0</td>\n",
       "      <td>4.0.3 and up</td>\n",
       "    </tr>\n",
       "    <tr>\n",
       "      <th>1</th>\n",
       "      <td>Coloring book moana</td>\n",
       "      <td>ART_AND_DESIGN</td>\n",
       "      <td>3.9</td>\n",
       "      <td>967</td>\n",
       "      <td>14M</td>\n",
       "      <td>500,000+</td>\n",
       "      <td>Free</td>\n",
       "      <td>0</td>\n",
       "      <td>Everyone</td>\n",
       "      <td>Art &amp; Design;Pretend Play</td>\n",
       "      <td>January 15, 2018</td>\n",
       "      <td>2.0.0</td>\n",
       "      <td>4.0.3 and up</td>\n",
       "    </tr>\n",
       "    <tr>\n",
       "      <th>2</th>\n",
       "      <td>U Launcher Lite – FREE Live Cool Themes, Hide ...</td>\n",
       "      <td>ART_AND_DESIGN</td>\n",
       "      <td>4.7</td>\n",
       "      <td>87510</td>\n",
       "      <td>8.7M</td>\n",
       "      <td>5,000,000+</td>\n",
       "      <td>Free</td>\n",
       "      <td>0</td>\n",
       "      <td>Everyone</td>\n",
       "      <td>Art &amp; Design</td>\n",
       "      <td>August 1, 2018</td>\n",
       "      <td>1.2.4</td>\n",
       "      <td>4.0.3 and up</td>\n",
       "    </tr>\n",
       "  </tbody>\n",
       "</table>\n",
       "</div>"
      ],
      "text/plain": [
       "                                                 App        Category  Rating  \\\n",
       "0     Photo Editor & Candy Camera & Grid & ScrapBook  ART_AND_DESIGN     4.1   \n",
       "1                                Coloring book moana  ART_AND_DESIGN     3.9   \n",
       "2  U Launcher Lite – FREE Live Cool Themes, Hide ...  ART_AND_DESIGN     4.7   \n",
       "\n",
       "  Reviews  Size    Installs  Type Price Content Rating  \\\n",
       "0     159   19M     10,000+  Free     0       Everyone   \n",
       "1     967   14M    500,000+  Free     0       Everyone   \n",
       "2   87510  8.7M  5,000,000+  Free     0       Everyone   \n",
       "\n",
       "                      Genres      Last Updated Current Ver   Android Ver  \n",
       "0               Art & Design   January 7, 2018       1.0.0  4.0.3 and up  \n",
       "1  Art & Design;Pretend Play  January 15, 2018       2.0.0  4.0.3 and up  \n",
       "2               Art & Design    August 1, 2018       1.2.4  4.0.3 and up  "
      ]
     },
     "execution_count": 519,
     "metadata": {},
     "output_type": "execute_result"
    }
   ],
   "source": [
    "# Взглянем на данные в датафрейме\n",
    "apps_df.head(3)"
   ]
  },
  {
   "cell_type": "code",
   "execution_count": 520,
   "metadata": {},
   "outputs": [
    {
     "name": "stdout",
     "output_type": "stream",
     "text": [
      "<class 'pandas.core.frame.DataFrame'>\n",
      "RangeIndex: 10841 entries, 0 to 10840\n",
      "Data columns (total 13 columns):\n",
      " #   Column          Non-Null Count  Dtype  \n",
      "---  ------          --------------  -----  \n",
      " 0   App             10841 non-null  object \n",
      " 1   Category        10841 non-null  object \n",
      " 2   Rating          9367 non-null   float64\n",
      " 3   Reviews         10841 non-null  object \n",
      " 4   Size            10841 non-null  object \n",
      " 5   Installs        10841 non-null  object \n",
      " 6   Type            10840 non-null  object \n",
      " 7   Price           10841 non-null  object \n",
      " 8   Content Rating  10840 non-null  object \n",
      " 9   Genres          10841 non-null  object \n",
      " 10  Last Updated    10841 non-null  object \n",
      " 11  Current Ver     10833 non-null  object \n",
      " 12  Android Ver     10838 non-null  object \n",
      "dtypes: float64(1), object(12)\n",
      "memory usage: 1.1+ MB\n"
     ]
    }
   ],
   "source": [
    "# Общая информация\n",
    "apps_df.info()"
   ]
  },
  {
   "cell_type": "code",
   "execution_count": 521,
   "metadata": {},
   "outputs": [],
   "source": [
    "# Заменим пробелы на нижнее подчеркивание в заголовках столбцов и приведем их к нижнему регистру для удобства обращения\n",
    "apps_df.rename(columns=lambda x: x.replace(' ','_').lower(), inplace=True)\n",
    "reviews_df.rename(columns=lambda x: x.replace(' ','_').lower(), inplace=True)"
   ]
  },
  {
   "cell_type": "code",
   "execution_count": 522,
   "metadata": {},
   "outputs": [],
   "source": [
    "# Приведем к нижнему регистру название приложений (разный регистр - потенциальный источник скрытых дубликатов),\n",
    "# а также другие текстовые столбцы\n",
    "apps_df.app = apps_df.app.apply(lambda x: x.lower())\n",
    "apps_df.category = apps_df.category.apply(lambda x: x.lower())"
   ]
  },
  {
   "cell_type": "code",
   "execution_count": 523,
   "metadata": {
    "scrolled": true
   },
   "outputs": [
    {
     "data": {
      "text/html": [
       "<div>\n",
       "<style scoped>\n",
       "    .dataframe tbody tr th:only-of-type {\n",
       "        vertical-align: middle;\n",
       "    }\n",
       "\n",
       "    .dataframe tbody tr th {\n",
       "        vertical-align: top;\n",
       "    }\n",
       "\n",
       "    .dataframe thead th {\n",
       "        text-align: right;\n",
       "    }\n",
       "</style>\n",
       "<table border=\"1\" class=\"dataframe\">\n",
       "  <thead>\n",
       "    <tr style=\"text-align: right;\">\n",
       "      <th></th>\n",
       "      <th>app</th>\n",
       "      <th>category</th>\n",
       "      <th>rating</th>\n",
       "      <th>reviews</th>\n",
       "      <th>size</th>\n",
       "      <th>installs</th>\n",
       "      <th>type</th>\n",
       "      <th>price</th>\n",
       "      <th>content_rating</th>\n",
       "      <th>genres</th>\n",
       "      <th>last_updated</th>\n",
       "      <th>current_ver</th>\n",
       "      <th>android_ver</th>\n",
       "    </tr>\n",
       "  </thead>\n",
       "  <tbody>\n",
       "    <tr>\n",
       "      <th>10472</th>\n",
       "      <td>life made wi-fi touchscreen photo frame</td>\n",
       "      <td>1.9</td>\n",
       "      <td>19.0</td>\n",
       "      <td>3.0M</td>\n",
       "      <td>1,000+</td>\n",
       "      <td>Free</td>\n",
       "      <td>0</td>\n",
       "      <td>Everyone</td>\n",
       "      <td>NaN</td>\n",
       "      <td>February 11, 2018</td>\n",
       "      <td>1.0.19</td>\n",
       "      <td>4.0 and up</td>\n",
       "      <td>NaN</td>\n",
       "    </tr>\n",
       "  </tbody>\n",
       "</table>\n",
       "</div>"
      ],
      "text/plain": [
       "                                           app category  rating reviews  \\\n",
       "10472  life made wi-fi touchscreen photo frame      1.9    19.0    3.0M   \n",
       "\n",
       "         size installs type     price content_rating             genres  \\\n",
       "10472  1,000+     Free    0  Everyone            NaN  February 11, 2018   \n",
       "\n",
       "      last_updated current_ver android_ver  \n",
       "10472       1.0.19  4.0 and up         NaN  "
      ]
     },
     "execution_count": 523,
     "metadata": {},
     "output_type": "execute_result"
    }
   ],
   "source": [
    "# При попытке преобразовать тип данных видим, что нам мешают некоторые значения. \n",
    "# Похоже, что в одной строке данные \"съехали\" на 1 столбец - значения не соответствуют названиям столбцов\n",
    "apps_df.query('price == \"Everyone\"')"
   ]
  },
  {
   "cell_type": "code",
   "execution_count": 524,
   "metadata": {},
   "outputs": [],
   "source": [
    "# Сдвинем значения этой строки на 1 столбец, начиная с category\n",
    "apps_df.loc[10472,'category':'android_ver'] =  apps_df.loc[10472,'category':'android_ver'].shift(periods=1, axis=0)"
   ]
  },
  {
   "cell_type": "code",
   "execution_count": 525,
   "metadata": {},
   "outputs": [],
   "source": [
    "# Категория данного приложения отсутствует - очевидно, это photography. Вставим пропущенное значение.\n",
    "apps_df.loc[10472,'category'] = 'photography'"
   ]
  },
  {
   "cell_type": "code",
   "execution_count": 526,
   "metadata": {},
   "outputs": [],
   "source": [
    "# Удалим знак $ в столбце price\n",
    "apps_df['price']   = apps_df['price'].apply(lambda x: x.replace('$',''))"
   ]
  },
  {
   "cell_type": "code",
   "execution_count": 527,
   "metadata": {},
   "outputs": [],
   "source": [
    "# Удалим лишние символы из столбца installs, чтобы работать с ним, как с числовым столбцом\n",
    "apps_df.installs = apps_df.installs.apply(lambda x: x.replace('+','').replace(',',''))"
   ]
  },
  {
   "cell_type": "code",
   "execution_count": 528,
   "metadata": {},
   "outputs": [],
   "source": [
    "# Поменяем тип данных в колонках c датой и числовыми данными\n",
    "apps_df['reviews'] = apps_df['reviews'].astype('int')\n",
    "apps_df['price'] = apps_df['price'].astype('float')\n",
    "apps_df['last_updated'] = pd.to_datetime(apps_df['last_updated'])\n",
    "apps_df['rating'] = apps_df['rating'].astype('float')\n",
    "apps_df.installs = apps_df.installs.astype('int')"
   ]
  },
  {
   "cell_type": "markdown",
   "metadata": {},
   "source": [
    "#### Пропущенные значения\n",
    "Почти у 1,5 тысячи приложений отсутствует информация о рейтинге. Очевидно, некоторые приложения в действительности могут не иметь отзывов. Удалять эти строки из датафрейма было бы неверно, так как они могут быть полезны для анализа других признаков, помимо рейтинга."
   ]
  },
  {
   "cell_type": "code",
   "execution_count": 529,
   "metadata": {},
   "outputs": [
    {
     "data": {
      "text/plain": [
       "app                  0\n",
       "category             0\n",
       "rating            1474\n",
       "reviews              0\n",
       "size                 0\n",
       "installs             0\n",
       "type                 1\n",
       "price                0\n",
       "content_rating       0\n",
       "genres               1\n",
       "last_updated         0\n",
       "current_ver          8\n",
       "android_ver          2\n",
       "dtype: int64"
      ]
     },
     "execution_count": 529,
     "metadata": {},
     "output_type": "execute_result"
    }
   ],
   "source": [
    "# Проверим на наличие пропущенных значений\n",
    "apps_df.isna().sum()"
   ]
  },
  {
   "cell_type": "code",
   "execution_count": 530,
   "metadata": {},
   "outputs": [
    {
     "data": {
      "text/plain": [
       "483"
      ]
     },
     "execution_count": 530,
     "metadata": {},
     "output_type": "execute_result"
    }
   ],
   "source": [
    "# Проверим данные на наличие дубликатов\n",
    "apps_df.duplicated().sum()"
   ]
  },
  {
   "cell_type": "code",
   "execution_count": 531,
   "metadata": {},
   "outputs": [],
   "source": [
    "# Удалим дубликаты\n",
    "apps_df.drop_duplicates(inplace = True)"
   ]
  },
  {
   "cell_type": "code",
   "execution_count": 532,
   "metadata": {},
   "outputs": [
    {
     "data": {
      "text/plain": [
       "(10358, 13)"
      ]
     },
     "execution_count": 532,
     "metadata": {},
     "output_type": "execute_result"
    }
   ],
   "source": [
    "# Посмотрим на размеры получившегося датафрейма\n",
    "apps_df.shape"
   ]
  },
  {
   "cell_type": "code",
   "execution_count": 533,
   "metadata": {},
   "outputs": [
    {
     "data": {
      "text/plain": [
       "9639"
      ]
     },
     "execution_count": 533,
     "metadata": {},
     "output_type": "execute_result"
    }
   ],
   "source": [
    "# проверим, что названия приложений в столбце app уникальны. Их число должно быть равно числу строк.\n",
    "apps_df.app.nunique()"
   ]
  },
  {
   "cell_type": "code",
   "execution_count": 534,
   "metadata": {},
   "outputs": [],
   "source": [
    "# Некоторые приложения по-прежнему дублируются в датафрейме. \n",
    "#Удалим дубликаты по столбцу app - мы хотим видеть каждое приложение только 1 раз для целей анализа\n",
    "apps_df.drop_duplicates(subset = ['app'], inplace = True)"
   ]
  },
  {
   "cell_type": "code",
   "execution_count": 535,
   "metadata": {},
   "outputs": [
    {
     "data": {
      "text/plain": [
       "(9639, 13)"
      ]
     },
     "execution_count": 535,
     "metadata": {},
     "output_type": "execute_result"
    }
   ],
   "source": [
    "# Проверим, что число строк соответстует числу уникальных значений\n",
    "apps_df.shape"
   ]
  },
  {
   "cell_type": "markdown",
   "metadata": {},
   "source": [
    "Предобработаем датафрейм с отзывами, выполним шаги:\n",
    "1. посмотрим на head() таблицы\n",
    "2. просмотрим общую информацию о датафрейме при помощи метода info() - получим информацию отипах данных и пропусках\n",
    "3. названия столбцов приведем к формату, удобному для обращения: нижний регистр, нижнее подчеркивание вместо пробела\n",
    "4. категориальные переменные также приведем к нижнему регистру, так как это возможный источник скрытых дубликатов\n",
    "3. обработаем пропуски\n",
    "4. проверим на наличие дубликатов и при необходимости избавимся от них"
   ]
  },
  {
   "cell_type": "code",
   "execution_count": 536,
   "metadata": {},
   "outputs": [
    {
     "data": {
      "text/html": [
       "<div>\n",
       "<style scoped>\n",
       "    .dataframe tbody tr th:only-of-type {\n",
       "        vertical-align: middle;\n",
       "    }\n",
       "\n",
       "    .dataframe tbody tr th {\n",
       "        vertical-align: top;\n",
       "    }\n",
       "\n",
       "    .dataframe thead th {\n",
       "        text-align: right;\n",
       "    }\n",
       "</style>\n",
       "<table border=\"1\" class=\"dataframe\">\n",
       "  <thead>\n",
       "    <tr style=\"text-align: right;\">\n",
       "      <th></th>\n",
       "      <th>app</th>\n",
       "      <th>translated_review</th>\n",
       "      <th>sentiment</th>\n",
       "      <th>sentiment_polarity</th>\n",
       "      <th>sentiment_subjectivity</th>\n",
       "    </tr>\n",
       "  </thead>\n",
       "  <tbody>\n",
       "    <tr>\n",
       "      <th>0</th>\n",
       "      <td>10 Best Foods for You</td>\n",
       "      <td>I like eat delicious food. That's I'm cooking ...</td>\n",
       "      <td>Positive</td>\n",
       "      <td>1.00</td>\n",
       "      <td>0.533333</td>\n",
       "    </tr>\n",
       "    <tr>\n",
       "      <th>1</th>\n",
       "      <td>10 Best Foods for You</td>\n",
       "      <td>This help eating healthy exercise regular basis</td>\n",
       "      <td>Positive</td>\n",
       "      <td>0.25</td>\n",
       "      <td>0.288462</td>\n",
       "    </tr>\n",
       "    <tr>\n",
       "      <th>2</th>\n",
       "      <td>10 Best Foods for You</td>\n",
       "      <td>NaN</td>\n",
       "      <td>NaN</td>\n",
       "      <td>NaN</td>\n",
       "      <td>NaN</td>\n",
       "    </tr>\n",
       "    <tr>\n",
       "      <th>3</th>\n",
       "      <td>10 Best Foods for You</td>\n",
       "      <td>Works great especially going grocery store</td>\n",
       "      <td>Positive</td>\n",
       "      <td>0.40</td>\n",
       "      <td>0.875000</td>\n",
       "    </tr>\n",
       "    <tr>\n",
       "      <th>4</th>\n",
       "      <td>10 Best Foods for You</td>\n",
       "      <td>Best idea us</td>\n",
       "      <td>Positive</td>\n",
       "      <td>1.00</td>\n",
       "      <td>0.300000</td>\n",
       "    </tr>\n",
       "  </tbody>\n",
       "</table>\n",
       "</div>"
      ],
      "text/plain": [
       "                     app                                  translated_review  \\\n",
       "0  10 Best Foods for You  I like eat delicious food. That's I'm cooking ...   \n",
       "1  10 Best Foods for You    This help eating healthy exercise regular basis   \n",
       "2  10 Best Foods for You                                                NaN   \n",
       "3  10 Best Foods for You         Works great especially going grocery store   \n",
       "4  10 Best Foods for You                                       Best idea us   \n",
       "\n",
       "  sentiment  sentiment_polarity  sentiment_subjectivity  \n",
       "0  Positive                1.00                0.533333  \n",
       "1  Positive                0.25                0.288462  \n",
       "2       NaN                 NaN                     NaN  \n",
       "3  Positive                0.40                0.875000  \n",
       "4  Positive                1.00                0.300000  "
      ]
     },
     "execution_count": 536,
     "metadata": {},
     "output_type": "execute_result"
    }
   ],
   "source": [
    "# Взглянем на датафрейм с отзывами\n",
    "reviews_df.head()"
   ]
  },
  {
   "cell_type": "code",
   "execution_count": 537,
   "metadata": {},
   "outputs": [
    {
     "name": "stdout",
     "output_type": "stream",
     "text": [
      "<class 'pandas.core.frame.DataFrame'>\n",
      "RangeIndex: 64295 entries, 0 to 64294\n",
      "Data columns (total 5 columns):\n",
      " #   Column                  Non-Null Count  Dtype  \n",
      "---  ------                  --------------  -----  \n",
      " 0   app                     64295 non-null  object \n",
      " 1   translated_review       37427 non-null  object \n",
      " 2   sentiment               37432 non-null  object \n",
      " 3   sentiment_polarity      37432 non-null  float64\n",
      " 4   sentiment_subjectivity  37432 non-null  float64\n",
      "dtypes: float64(2), object(3)\n",
      "memory usage: 2.5+ MB\n"
     ]
    }
   ],
   "source": [
    "# Посмотрим общую информацию о нём\n",
    "reviews_df.info()"
   ]
  },
  {
   "cell_type": "markdown",
   "metadata": {},
   "source": [
    "#### Пропущенные значения\n",
    "Видим, что в таблице с отзывами много пропущенных значений, притом большинство строк пустые целиком (кроме столбца App), то есть не несут никакой полезной информации. Удалим их."
   ]
  },
  {
   "cell_type": "code",
   "execution_count": 538,
   "metadata": {},
   "outputs": [],
   "source": [
    "# Избавимся от строк с пропущенными значениями\n",
    "reviews_df.dropna(inplace = True)"
   ]
  },
  {
   "cell_type": "code",
   "execution_count": 539,
   "metadata": {},
   "outputs": [],
   "source": [
    "# Приведем к нижнему регистру текстовые столбцы\n",
    "reviews_df.app = reviews_df.app.apply(lambda x: x.lower())\n",
    "reviews_df.translated_review = reviews_df.translated_review.apply(lambda x: x.lower())\n",
    "reviews_df.sentiment = reviews_df.sentiment.apply(lambda x: x.lower())"
   ]
  },
  {
   "cell_type": "code",
   "execution_count": 540,
   "metadata": {},
   "outputs": [
    {
     "data": {
      "text/plain": [
       "7788"
      ]
     },
     "execution_count": 540,
     "metadata": {},
     "output_type": "execute_result"
    }
   ],
   "source": [
    "# Проверим на наличие дубликатов - их довольно много\n",
    "reviews_df.duplicated().sum()"
   ]
  },
  {
   "cell_type": "markdown",
   "metadata": {},
   "source": [
    "#### Дубликаты\n",
    "У отзывов нет поля id, что осложняет задачу с пониманием дублирования данных. Однако мы можем предположить, что отзывы с идентичным текстом и оценками представляют собой дубликаты. Часть отзывов могут быть заказными. Особенно похожи на них отзывы \"good\", \"bad\" и со стандартными оценками. Мы исключим дубликаты из рассмотрения."
   ]
  },
  {
   "cell_type": "code",
   "execution_count": 541,
   "metadata": {},
   "outputs": [
    {
     "data": {
      "text/html": [
       "<div>\n",
       "<style scoped>\n",
       "    .dataframe tbody tr th:only-of-type {\n",
       "        vertical-align: middle;\n",
       "    }\n",
       "\n",
       "    .dataframe tbody tr th {\n",
       "        vertical-align: top;\n",
       "    }\n",
       "\n",
       "    .dataframe thead th {\n",
       "        text-align: right;\n",
       "    }\n",
       "</style>\n",
       "<table border=\"1\" class=\"dataframe\">\n",
       "  <thead>\n",
       "    <tr style=\"text-align: right;\">\n",
       "      <th></th>\n",
       "      <th>app</th>\n",
       "      <th>translated_review</th>\n",
       "      <th>sentiment</th>\n",
       "      <th>sentiment_polarity</th>\n",
       "      <th>sentiment_subjectivity</th>\n",
       "    </tr>\n",
       "  </thead>\n",
       "  <tbody>\n",
       "    <tr>\n",
       "      <th>40</th>\n",
       "      <td>10 best foods for you</td>\n",
       "      <td>good</td>\n",
       "      <td>positive</td>\n",
       "      <td>0.7</td>\n",
       "      <td>0.6</td>\n",
       "    </tr>\n",
       "    <tr>\n",
       "      <th>78</th>\n",
       "      <td>10 best foods for you</td>\n",
       "      <td>good</td>\n",
       "      <td>positive</td>\n",
       "      <td>0.7</td>\n",
       "      <td>0.6</td>\n",
       "    </tr>\n",
       "    <tr>\n",
       "      <th>79</th>\n",
       "      <td>10 best foods for you</td>\n",
       "      <td>good</td>\n",
       "      <td>positive</td>\n",
       "      <td>0.7</td>\n",
       "      <td>0.6</td>\n",
       "    </tr>\n",
       "    <tr>\n",
       "      <th>140</th>\n",
       "      <td>10 best foods for you</td>\n",
       "      <td>good</td>\n",
       "      <td>positive</td>\n",
       "      <td>0.7</td>\n",
       "      <td>0.6</td>\n",
       "    </tr>\n",
       "    <tr>\n",
       "      <th>178</th>\n",
       "      <td>10 best foods for you</td>\n",
       "      <td>good</td>\n",
       "      <td>positive</td>\n",
       "      <td>0.7</td>\n",
       "      <td>0.6</td>\n",
       "    </tr>\n",
       "  </tbody>\n",
       "</table>\n",
       "</div>"
      ],
      "text/plain": [
       "                       app translated_review sentiment  sentiment_polarity  \\\n",
       "40   10 best foods for you              good  positive                 0.7   \n",
       "78   10 best foods for you              good  positive                 0.7   \n",
       "79   10 best foods for you              good  positive                 0.7   \n",
       "140  10 best foods for you              good  positive                 0.7   \n",
       "178  10 best foods for you              good  positive                 0.7   \n",
       "\n",
       "     sentiment_subjectivity  \n",
       "40                      0.6  \n",
       "78                      0.6  \n",
       "79                      0.6  \n",
       "140                     0.6  \n",
       "178                     0.6  "
      ]
     },
     "execution_count": 541,
     "metadata": {},
     "output_type": "execute_result"
    }
   ],
   "source": [
    "reviews_df[reviews_df.translated_review == 'good'].head()"
   ]
  },
  {
   "cell_type": "code",
   "execution_count": 542,
   "metadata": {},
   "outputs": [],
   "source": [
    "reviews_df.drop_duplicates(inplace = True)"
   ]
  },
  {
   "cell_type": "markdown",
   "metadata": {},
   "source": [
    "### 2. Самая популярная категория приложений. Распределение приложений по категориям"
   ]
  },
  {
   "cell_type": "code",
   "execution_count": 544,
   "metadata": {},
   "outputs": [
    {
     "data": {
      "text/html": [
       "<div>\n",
       "<style scoped>\n",
       "    .dataframe tbody tr th:only-of-type {\n",
       "        vertical-align: middle;\n",
       "    }\n",
       "\n",
       "    .dataframe tbody tr th {\n",
       "        vertical-align: top;\n",
       "    }\n",
       "\n",
       "    .dataframe thead th {\n",
       "        text-align: right;\n",
       "    }\n",
       "</style>\n",
       "<table border=\"1\" class=\"dataframe\">\n",
       "  <thead>\n",
       "    <tr style=\"text-align: right;\">\n",
       "      <th></th>\n",
       "      <th>category</th>\n",
       "      <th>app</th>\n",
       "    </tr>\n",
       "  </thead>\n",
       "  <tbody>\n",
       "    <tr>\n",
       "      <th>11</th>\n",
       "      <td>family</td>\n",
       "      <td>1827</td>\n",
       "    </tr>\n",
       "  </tbody>\n",
       "</table>\n",
       "</div>"
      ],
      "text/plain": [
       "   category   app\n",
       "11   family  1827"
      ]
     },
     "execution_count": 544,
     "metadata": {},
     "output_type": "execute_result"
    }
   ],
   "source": [
    "# Определим категорию с наибольшим количеством приложений\n",
    "apps_category_count = apps_df.groupby('category', as_index = False) \\\n",
    "                             .agg({'app':'count'}) \\\n",
    "                             .sort_values('app',ascending = False)\n",
    "apps_category_count.head(1)"
   ]
  },
  {
   "cell_type": "code",
   "execution_count": 545,
   "metadata": {},
   "outputs": [
    {
     "data": {
      "image/png": "[encoded data removed]",
      "text/plain": [
       "<Figure size 576x360 with 1 Axes>"
      ]
     },
     "metadata": {
      "needs_background": "light"
     },
     "output_type": "display_data"
    }
   ],
   "source": [
    "# Построим график распределения приложений по категориям\n",
    "sns.barplot(x='category', y='app', data = apps_category_count)\n",
    "sns.set()\n",
    "plt.xticks(rotation=90)\n",
    "plt.title('Распределение приложений по категориям')\n",
    "sns.despine()"
   ]
  },
  {
   "cell_type": "markdown",
   "metadata": {},
   "source": [
    "Самой популярной категорией приложений является категория family - различные образовательные и развлекательные приложения для семейного круга лиц. Далее, также с большим отрывом, следуют категории game и tools, которые также составляют значиельную долю рынка приложений."
   ]
  },
  {
   "cell_type": "markdown",
   "metadata": {},
   "source": [
    "### 3. Приложения с наибольшим количеством установок"
   ]
  },
  {
   "cell_type": "code",
   "execution_count": 546,
   "metadata": {},
   "outputs": [
    {
     "data": {
      "text/html": [
       "<div>\n",
       "<style scoped>\n",
       "    .dataframe tbody tr th:only-of-type {\n",
       "        vertical-align: middle;\n",
       "    }\n",
       "\n",
       "    .dataframe tbody tr th {\n",
       "        vertical-align: top;\n",
       "    }\n",
       "\n",
       "    .dataframe thead th {\n",
       "        text-align: right;\n",
       "    }\n",
       "</style>\n",
       "<table border=\"1\" class=\"dataframe\">\n",
       "  <thead>\n",
       "    <tr style=\"text-align: right;\">\n",
       "      <th></th>\n",
       "      <th>installs</th>\n",
       "      <th>app</th>\n",
       "    </tr>\n",
       "  </thead>\n",
       "  <tbody>\n",
       "    <tr>\n",
       "      <th>19</th>\n",
       "      <td>1000000000</td>\n",
       "      <td>20</td>\n",
       "    </tr>\n",
       "  </tbody>\n",
       "</table>\n",
       "</div>"
      ],
      "text/plain": [
       "      installs  app\n",
       "19  1000000000   20"
      ]
     },
     "execution_count": 546,
     "metadata": {},
     "output_type": "execute_result"
    }
   ],
   "source": [
    "# Посмотрим, каково максимальное количество установок для приложений и сколько приложений входит в эту группу\n",
    "apps_df.groupby('installs', as_index = False).agg({'app':'count'}).sort_values('installs', ascending = False).head(1)"
   ]
  },
  {
   "cell_type": "code",
   "execution_count": 547,
   "metadata": {},
   "outputs": [
    {
     "data": {
      "text/plain": [
       "152                            google play books\n",
       "335     messenger – text and video chat for free\n",
       "336                           whatsapp messenger\n",
       "338                 google chrome: fast & secure\n",
       "340                                        gmail\n",
       "341                                     hangouts\n",
       "391                skype - free im & video calls\n",
       "865                            google play games\n",
       "1654                              subway surfers\n",
       "2544                                    facebook\n",
       "2545                                   instagram\n",
       "2554                                     google+\n",
       "2808                               google photos\n",
       "3117                   maps - navigate & explore\n",
       "3127                          google street view\n",
       "3234                                      google\n",
       "3454                                google drive\n",
       "3665                                     youtube\n",
       "3687                     google play movies & tv\n",
       "3736                                 google news\n",
       "Name: app, dtype: object"
      ]
     },
     "execution_count": 547,
     "metadata": {},
     "output_type": "execute_result"
    }
   ],
   "source": [
    "# Выведем приложения с наибольшим количеством установок - более 1 млрд.\n",
    "apps_df.query('installs == 1000000000').app"
   ]
  },
  {
   "cell_type": "markdown",
   "metadata": {},
   "source": [
    "Приложения с наибольшим количеством скачиваний (более 1 млрд) в значительной степени представлены приложениями IT-корпорации Google, затем Facebook, что выглядит вполне закономерным."
   ]
  },
  {
   "cell_type": "markdown",
   "metadata": {},
   "source": [
    "### 4. Рейтинг приложений в самых популярных категориях - график распределения"
   ]
  },
  {
   "cell_type": "code",
   "execution_count": 548,
   "metadata": {},
   "outputs": [
    {
     "data": {
      "image/png": "[encoded data removed]",
      "text/plain": [
       "<Figure size 576x360 with 1 Axes>"
      ]
     },
     "metadata": {},
     "output_type": "display_data"
    }
   ],
   "source": [
    "# построим график распределения в 5 самых популярных категориях приложений\n",
    "sns.violinplot(x = 'category', y = 'rating', \\\n",
    "               data = apps_df.query('category in [\"family\", \"game\", \"tools\", \"business\", \"medical\"]'))\n",
    "plt.title('Распределение рейтинга в 5 наиболее популярных категориях')\n",
    "sns.despine()"
   ]
  },
  {
   "cell_type": "markdown",
   "metadata": {},
   "source": [
    "Видим, что медианное значение рейтинга 5 самых популярных приложений распределено вокруг чуть выше 4 (4.1 - 4.2). При этом интересны следующие наблюдения:\n",
    "1. У игр рейтинг наиболее сконцентрирован вокруг медианы и имеет самый короткий \"хвост\". Пользователи игр выглядят наиболее лояльными пользователями.\n",
    "2. У приложений из категорий \"business\" и \"medical\" распределения наиболее \"растянутые\" и имеют самые длинные \"хвосты\". По-видимому, у пользователей этих приложений ожидания довольно часто не совпадают с действительностью. Характер взаимодействия с такими приложениями гораздо менее предсказуем и прозрачен, чем с играми.\n"
   ]
  },
  {
   "cell_type": "markdown",
   "metadata": {},
   "source": [
    "### 5. Проверка гипотезы о том, что средний рейтинг платных приложений отличается от бесплатных"
   ]
  },
  {
   "cell_type": "code",
   "execution_count": 549,
   "metadata": {},
   "outputs": [
    {
     "data": {
      "text/html": [
       "<div>\n",
       "<style scoped>\n",
       "    .dataframe tbody tr th:only-of-type {\n",
       "        vertical-align: middle;\n",
       "    }\n",
       "\n",
       "    .dataframe tbody tr th {\n",
       "        vertical-align: top;\n",
       "    }\n",
       "\n",
       "    .dataframe thead tr th {\n",
       "        text-align: left;\n",
       "    }\n",
       "\n",
       "    .dataframe thead tr:last-of-type th {\n",
       "        text-align: right;\n",
       "    }\n",
       "</style>\n",
       "<table border=\"1\" class=\"dataframe\">\n",
       "  <thead>\n",
       "    <tr>\n",
       "      <th></th>\n",
       "      <th colspan=\"2\" halign=\"left\">rating</th>\n",
       "    </tr>\n",
       "    <tr>\n",
       "      <th></th>\n",
       "      <th>mean</th>\n",
       "      <th>median</th>\n",
       "    </tr>\n",
       "    <tr>\n",
       "      <th>type</th>\n",
       "      <th></th>\n",
       "      <th></th>\n",
       "    </tr>\n",
       "  </thead>\n",
       "  <tbody>\n",
       "    <tr>\n",
       "      <th>Free</th>\n",
       "      <td>4.166631</td>\n",
       "      <td>4.3</td>\n",
       "    </tr>\n",
       "    <tr>\n",
       "      <th>Paid</th>\n",
       "      <td>4.260631</td>\n",
       "      <td>4.4</td>\n",
       "    </tr>\n",
       "  </tbody>\n",
       "</table>\n",
       "</div>"
      ],
      "text/plain": [
       "        rating       \n",
       "          mean median\n",
       "type                 \n",
       "Free  4.166631    4.3\n",
       "Paid  4.260631    4.4"
      ]
     },
     "execution_count": 549,
     "metadata": {},
     "output_type": "execute_result"
    }
   ],
   "source": [
    "# Посмотрим на средний рейтинг и медиану в каждом из типов приложений\n",
    "apps_df.groupby('type').agg({'rating':['mean','median']})"
   ]
  },
  {
   "cell_type": "markdown",
   "metadata": {},
   "source": [
    "Выдвинем гипотезу о том, что рейтинг платных приложений статичтически значимо выше, чем рейтинг бесплатных. \n",
    "\n",
    "Перед применением критерия оценки разности средних (t-test) оценим нормальность распределения и гомогенность дисперсий в 2 выборках. Не забудем исключить отсутствующие значения рейтинга."
   ]
  },
  {
   "cell_type": "code",
   "execution_count": 550,
   "metadata": {},
   "outputs": [],
   "source": [
    "# Отфильтруем необходимые значения по платным и бесплатным приложениям\n",
    "free_apps = apps_df[apps_df.rating.notna()].query('type == \"Free\"').rating\n",
    "paid_apps = apps_df[apps_df.rating.notna()].query('type == \"Paid\"').rating"
   ]
  },
  {
   "cell_type": "code",
   "execution_count": 551,
   "metadata": {},
   "outputs": [
    {
     "data": {
      "image/png": "[encoded data removed]",
      "text/plain": [
       "<Figure size 576x360 with 1 Axes>"
      ]
     },
     "metadata": {},
     "output_type": "display_data"
    }
   ],
   "source": [
    "# Взглянем на распределение рейтинга в каждом из 2 типов приложений\n",
    "sns.distplot(free_apps, label = 'бесплатные приложения')\n",
    "sns.distplot(paid_apps, label = 'платные приложения')\n",
    "plt.legend()\n",
    "plt.title('Распределение рейтинга платных и бесплатных приложений')\n",
    "sns.despine()"
   ]
  },
  {
   "cell_type": "code",
   "execution_count": 552,
   "metadata": {},
   "outputs": [
    {
     "data": {
      "text/plain": [
       "LeveneResult(statistic=0.19315900599874208, pvalue=0.6603119186548632)"
      ]
     },
     "execution_count": 552,
     "metadata": {},
     "output_type": "execute_result"
    }
   ],
   "source": [
    "# Проверим на гомогенность дисперсий наши выборки\n",
    "stats.levene(free_apps, paid_apps)"
   ]
  },
  {
   "cell_type": "code",
   "execution_count": 553,
   "metadata": {},
   "outputs": [
    {
     "data": {
      "text/plain": [
       "ShapiroResult(statistic=0.9003810882568359, pvalue=5.7133635630323075e-25)"
      ]
     },
     "execution_count": 553,
     "metadata": {},
     "output_type": "execute_result"
    }
   ],
   "source": [
    "# Проверим на нормальность распределения оценки бесплатных приложений\n",
    "#(тест чувствителен при большом количестве элементов, поэтому делаем выборку)\n",
    "stats.shapiro(free_apps.sample(1000))"
   ]
  },
  {
   "cell_type": "code",
   "execution_count": 554,
   "metadata": {},
   "outputs": [
    {
     "data": {
      "text/plain": [
       "ShapiroResult(statistic=0.8408614993095398, pvalue=4.4311701497152896e-24)"
      ]
     },
     "execution_count": 554,
     "metadata": {},
     "output_type": "execute_result"
    }
   ],
   "source": [
    "# Проверим на нормальность распределения оценки платных приложений\n",
    "# (здесь выборка не нужна, количество наблюдений и так меньше 1000)\n",
    "stats.shapiro(paid_apps)"
   ]
  },
  {
   "cell_type": "markdown",
   "metadata": {},
   "source": [
    "#### Промежуточные выводы\n",
    "\n",
    "Результаты теста Левена на гомогенность дисперсий позволяют сделать вывод о гомогенности дисперсий (p-уровень значимости > 0.05). \n",
    "\n",
    "Результаты теста Шапиро-Уилка на нормальность распределения не позволяют сделать вывод о нормальности распределений (p-уровень значимости < 0.05).\n",
    "\n",
    "Тем не менее, использовать мы будем t-test, так как для большого количества наблюдений (>50) допустимо использовать его и для распределений, не являющихся нормальными. \n",
    "\n",
    "Можно было бы заменить его на U-критерий Манна-Уитни -непараметрический аналог. Однако этот критерий не рекомендуется использовать при большом количестве повторяющихся значений, а это как раз наш случай.\n"
   ]
  },
  {
   "cell_type": "code",
   "execution_count": 555,
   "metadata": {},
   "outputs": [
    {
     "data": {
      "text/plain": [
       "Ttest_indResult(statistic=4.136593751340459, pvalue=3.560283944828107e-05)"
      ]
     },
     "execution_count": 555,
     "metadata": {},
     "output_type": "execute_result"
    }
   ],
   "source": [
    "# Рассчитаем значение t-критерия\n",
    "stats.ttest_ind(paid_apps, free_apps)"
   ]
  },
  {
   "cell_type": "markdown",
   "metadata": {},
   "source": [
    "#### Вывод\n",
    "Значение t-критерия и соответствующее ему значение p-value (<0.05) позволяет сделать вывод о наличии статистически значимых отличий и сказать о том, что рейтинг платных приложений выше рейтинга бесплатных."
   ]
  },
  {
   "cell_type": "markdown",
   "metadata": {},
   "source": [
    "### Категория с наибольшим количеством положительно окрашенных отзывов"
   ]
  },
  {
   "cell_type": "code",
   "execution_count": 556,
   "metadata": {
    "scrolled": true
   },
   "outputs": [
    {
     "data": {
      "text/html": [
       "<div>\n",
       "<style scoped>\n",
       "    .dataframe tbody tr th:only-of-type {\n",
       "        vertical-align: middle;\n",
       "    }\n",
       "\n",
       "    .dataframe tbody tr th {\n",
       "        vertical-align: top;\n",
       "    }\n",
       "\n",
       "    .dataframe thead th {\n",
       "        text-align: right;\n",
       "    }\n",
       "</style>\n",
       "<table border=\"1\" class=\"dataframe\">\n",
       "  <thead>\n",
       "    <tr style=\"text-align: right;\">\n",
       "      <th></th>\n",
       "      <th>app</th>\n",
       "    </tr>\n",
       "    <tr>\n",
       "      <th>category</th>\n",
       "      <th></th>\n",
       "    </tr>\n",
       "  </thead>\n",
       "  <tbody>\n",
       "    <tr>\n",
       "      <th>game</th>\n",
       "      <td>2566</td>\n",
       "    </tr>\n",
       "  </tbody>\n",
       "</table>\n",
       "</div>"
      ],
      "text/plain": [
       "           app\n",
       "category      \n",
       "game      2566"
      ]
     },
     "execution_count": 556,
     "metadata": {},
     "output_type": "execute_result"
    }
   ],
   "source": [
    "# Выведем категорию с наибольшим количеством положительно окрашенных отзывов\n",
    "reviews_df.query('sentiment == \"positive\"').merge(apps_df, on = 'app').groupby('category').agg({'app':'count'}) \\\n",
    ".sort_values('app',ascending= False).head(1)"
   ]
  },
  {
   "cell_type": "markdown",
   "metadata": {},
   "source": [
    "Максимальное количество положительно окрашенных отзывов у игровых приложений, что вновь подверждает наш вывод о том, что пользователи игр являются наиболее \"благодарными\", лояльными пользователями."
   ]
  },
  {
   "cell_type": "markdown",
   "metadata": {},
   "source": [
    "### 7. Собственная гипотеза, \"история\" и выводы из данных"
   ]
  },
  {
   "cell_type": "markdown",
   "metadata": {},
   "source": [
    "#### Шаг 1\n",
    "Предположим, что длина названия приложения влияет на рейтинг. Возможно, пользователи предпочитают короткие и лаконичные названия, а возможно, что они предпочитают приложения с более длинными названиями, более детально описывающими характеристики и пользу приложения.\n",
    "\n",
    "1. Добавим столбец с количеством слов в названии. Рассчитаем это количество при помощи подсчета пробелов в названии +1, предварительно исключив сочетание символов \" -\", так как \"-\" выделяется пробелом с обеих сторон, не являясь при этом отдельным словом.\n",
    "2. Удалим строки с пустым рейтингом из датафрейма - они нам не понадобятся\n",
    "3. Посмотрим на распределение рейтинга в зависимости от количества слов в названии при помощи графика violinplot()"
   ]
  },
  {
   "cell_type": "code",
   "execution_count": 557,
   "metadata": {},
   "outputs": [],
   "source": [
    "apps_df['name_length'] = apps_df['app'].apply(lambda x: x.replace(' -','').count(' ')+1)"
   ]
  },
  {
   "cell_type": "code",
   "execution_count": 558,
   "metadata": {},
   "outputs": [],
   "source": [
    "apps_df.dropna(inplace = True)"
   ]
  },
  {
   "cell_type": "code",
   "execution_count": 559,
   "metadata": {},
   "outputs": [
    {
     "data": {
      "image/png": "[encoded data removed]",
      "text/plain": [
       "<Figure size 576x360 with 1 Axes>"
      ]
     },
     "metadata": {},
     "output_type": "display_data"
    }
   ],
   "source": [
    "sns.violinplot(x=apps_df.name_length, y=apps_df.rating)\n",
    "plt.title('Распределение рейтинга в зависимости от количества слов в названии приложения')\n",
    "sns.despine()"
   ]
  },
  {
   "cell_type": "markdown",
   "metadata": {},
   "source": [
    "#### Шаг 2\n",
    "Взглянув на график распределений может заметить, что медиана растет по мере роста количества слов, токда как межквартильный размах уменьшается, то есть распределение становится более сконцентрированным.\n",
    "\n",
    "Предположим, что длина названия позволяет пользователю более точно оценить пользу приложения до его установки и соотнести её со своими ожиданиями. То есть приложения с более развернутым названием меньше создает ложных ожиданий пользователя. Также эти приложения могут иметь более узкую целевую функцию, что, опять же, снижает разрыв между ожиданиями пользователей и ценностью, которую дает приложение.\n",
    "\n",
    "Коротким названием будет считать название из 1 слова, а развернутыми - от 5 до 10 слов. Случаи, когда количество слов от 11  скорее можно считать исключением - таких наблюдений значительно меньше 1% всех наблюдений.\n",
    "\n",
    "Сравним средние значения."
   ]
  },
  {
   "cell_type": "code",
   "execution_count": 560,
   "metadata": {},
   "outputs": [
    {
     "data": {
      "text/plain": [
       "31"
      ]
     },
     "execution_count": 560,
     "metadata": {},
     "output_type": "execute_result"
    }
   ],
   "source": [
    "# Взглянем на количество наблюдений более 10\n",
    "apps_df.query('name_length > 10').app.count()"
   ]
  },
  {
   "cell_type": "code",
   "execution_count": 561,
   "metadata": {},
   "outputs": [
    {
     "data": {
      "text/plain": [
       "1069"
      ]
     },
     "execution_count": 561,
     "metadata": {},
     "output_type": "execute_result"
    }
   ],
   "source": [
    "# Количество приложений с названием из 5-10 слов\n",
    "apps_df.query('name_length in [5,10]').app.count()"
   ]
  },
  {
   "cell_type": "code",
   "execution_count": 562,
   "metadata": {},
   "outputs": [
    {
     "data": {
      "text/plain": [
       "584"
      ]
     },
     "execution_count": 562,
     "metadata": {},
     "output_type": "execute_result"
    }
   ],
   "source": [
    "# Количество приложений с названием из 1 слова\n",
    "apps_df.query('name_length == 1').app.count()"
   ]
  },
  {
   "cell_type": "code",
   "execution_count": 563,
   "metadata": {},
   "outputs": [
    {
     "data": {
      "text/plain": [
       "4.2289990645463"
      ]
     },
     "execution_count": 563,
     "metadata": {},
     "output_type": "execute_result"
    }
   ],
   "source": [
    "# Среднее значение рейтинга приложений с названием из 5-10 слов\n",
    "apps_df.query('name_length in [5,10]').rating.mean()"
   ]
  },
  {
   "cell_type": "code",
   "execution_count": 564,
   "metadata": {},
   "outputs": [
    {
     "data": {
      "text/plain": [
       "4.105993150684936"
      ]
     },
     "execution_count": 564,
     "metadata": {},
     "output_type": "execute_result"
    }
   ],
   "source": [
    "# Среднее значение рейтинга приложений с названием из 1 слова\n",
    "apps_df.query('name_length == 1').rating.mean()"
   ]
  },
  {
   "cell_type": "code",
   "execution_count": 565,
   "metadata": {},
   "outputs": [
    {
     "data": {
      "image/png": "[encoded data removed]",
      "text/plain": [
       "<Figure size 576x360 with 1 Axes>"
      ]
     },
     "metadata": {},
     "output_type": "display_data"
    }
   ],
   "source": [
    "sns.distplot(apps_df.query('name_length == 1').rating, label = 'Короткие названия')\n",
    "sns.distplot(apps_df.query('name_length in [5,10]').rating, label = 'Длинные названия')\n",
    "plt.title('Распределение рейтинга приложений с короткими и длинными названиями')\n",
    "plt.legend()\n",
    "sns.despine()"
   ]
  },
  {
   "cell_type": "code",
   "execution_count": 566,
   "metadata": {},
   "outputs": [
    {
     "data": {
      "text/plain": [
       "Ttest_indResult(statistic=-4.775983689188063, pvalue=1.94660420169157e-06)"
      ]
     },
     "execution_count": 566,
     "metadata": {},
     "output_type": "execute_result"
    }
   ],
   "source": [
    "# Рассчитаем t-критерий для 2 групп\n",
    "stats.ttest_ind(apps_df.query('name_length == 1').rating, apps_df.query('name_length in  [5,10]').rating)"
   ]
  },
  {
   "cell_type": "markdown",
   "metadata": {},
   "source": [
    "#### Вывод\n",
    "Полученное значение статистики и p-value (< 0.05) позволяет отвергнуть нулевую гипотезу о равенстве средних значений рейтинга для группы с коротким названием и группы с длинным названием.\n",
    "Можно сделать вывод о том, что более развернутое название сокращает разрыв между ожиданиями пользователя и фактической ценностью приложения. Следовательно, важно при создании приложения давать ему название, развернуто и подробно описывающее его  сущность."
   ]
  },
  {
   "cell_type": "markdown",
   "metadata": {},
   "source": [
    "### 8. Модель, предсказывающая рейтинг приложения"
   ]
  },
  {
   "cell_type": "markdown",
   "metadata": {},
   "source": [
    "#### Шаг 1\n",
    "* Определим тип модели. Линейная регрессия вряд ли будет полезна, так как отсутствует очевидная линейная связь какого-либо признака и рейтинга приложения, к тому же значение рейтинга ограничено 5 звездами, это ограничение также отсекает модель линейной регрессии.\n",
    "\n",
    "\n",
    "\n",
    "* Будем использовать дерево решений - довольно простой и эффективный инструмент построения моделей при помощи библиотеки sklearn. "
   ]
  },
  {
   "cell_type": "markdown",
   "metadata": {},
   "source": [
    "#### Шаг 2\n",
    "\n",
    "* Добавим столбец с количеством дней с последнего обновления (за текущую дату возьмем дату самого позднего обновления в датафрейме)\n",
    "\n",
    "\n",
    "* Применим к категориальным переменным метод pd.get_dummies() для преобразования их в признаки с бинарным значением для обработки моделью\n",
    "\n",
    "\n",
    "* Определим x и y для нашей модели\n",
    "\n",
    "\n",
    "* Применим модель к нашим данным\n",
    "\n",
    "\n",
    "* Рассчитаем среднюю абсолютную ошибку (mean absolute error)\n",
    "\n"
   ]
  },
  {
   "cell_type": "code",
   "execution_count": 567,
   "metadata": {},
   "outputs": [],
   "source": [
    "# Добавим колонку с количеством дней с последнего обновления приложения\n",
    "apps_df['days_since_update'] = (apps_df.last_updated.max() - apps_df.last_updated).dt.days"
   ]
  },
  {
   "cell_type": "code",
   "execution_count": 568,
   "metadata": {},
   "outputs": [],
   "source": [
    "df_dummies = pd.get_dummies(apps_df[['type','category']], drop_first = True)                        "
   ]
  },
  {
   "cell_type": "code",
   "execution_count": 569,
   "metadata": {},
   "outputs": [],
   "source": [
    "df_model = pd.concat([apps_df[['app','reviews','days_since_update','price','installs','rating']],df_dummies], axis = 1)"
   ]
  },
  {
   "cell_type": "code",
   "execution_count": 570,
   "metadata": {},
   "outputs": [],
   "source": [
    "# Определим X и y для нашей модели\n",
    "X = df_model.drop(['rating','app'], axis = 'columns')\n",
    "y = df_model.rating"
   ]
  },
  {
   "cell_type": "code",
   "execution_count": 571,
   "metadata": {},
   "outputs": [],
   "source": [
    "# Импортируем необходимые пакеты из библиотеки sklearn\n",
    "from sklearn.tree import DecisionTreeRegressor\n",
    "from sklearn.metrics import mean_absolute_error\n",
    "from sklearn.model_selection import train_test_split"
   ]
  },
  {
   "cell_type": "code",
   "execution_count": 572,
   "metadata": {},
   "outputs": [
    {
     "name": "stdout",
     "output_type": "stream",
     "text": [
      "Абсолютная ошибка среднего для дерева решений:  0.4567270058708415\n"
     ]
    }
   ],
   "source": [
    "# Разделим данные на тестовые и валидационные. На валидационных мы проверим точность модели\n",
    "train_X, val_X, train_y, val_y = train_test_split(X, y, random_state = 1)\n",
    "# Определим модель\n",
    "rating_model = DecisionTreeRegressor()\n",
    "# Передадим ей тестовые данные\n",
    "rating_model.fit(train_X, train_y)\n",
    "\n",
    "# Сделаем предсказание на основе валидационных данных и оценим среднюю абсолютную ошибку\n",
    "rating_predictions = rating_model.predict(val_X)\n",
    "print('Абсолютная ошибка среднего для дерева решений: ',mean_absolute_error(val_y, rating_predictions))"
   ]
  },
  {
   "cell_type": "markdown",
   "metadata": {},
   "source": [
    "#### Вывод\n",
    "Полученная модель с ошибкой в 0,46 звезды предсказывает рейтинг приложения выглядит довольно убедительно, учитывая, что мы берем очень ограниченный перечень факторов. Однако лучший спосооб оценить точность модели - сравнить её результаты с результами другой модели.\n",
    "\n",
    "Попробуем сравнить точность данной модели c точностью модели random forest."
   ]
  },
  {
   "cell_type": "code",
   "execution_count": 573,
   "metadata": {},
   "outputs": [
    {
     "name": "stdout",
     "output_type": "stream",
     "text": [
      "Абсолютная ошибка среднего для метода случайного леса: 0.34249263698630145\n"
     ]
    }
   ],
   "source": [
    "from sklearn.ensemble import RandomForestRegressor\n",
    "rf_model = RandomForestRegressor(random_state=1)\n",
    "\n",
    "rf_model.fit(train_X, train_y)\n",
    "\n",
    "rf_val_mae = mean_absolute_error(val_y,rf_model.predict(val_X))\n",
    "\n",
    "print(\"Абсолютная ошибка среднего для метода случайного леса: {}\".format(rf_val_mae))"
   ]
  },
  {
   "cell_type": "markdown",
   "metadata": {},
   "source": [
    "#### Вывод 2\n",
    "Из 2 моделей, очевидно, более точно предсказывает рейтинг приложений модель random forest. При необходимости предсказать рейтинг приложения будем выбирать эту модель."
   ]
  }
 ],
 "metadata": {
  "kernelspec": {
   "display_name": "Python 3",
   "language": "python",
   "name": "python3"
  },
  "language_info": {
   "codemirror_mode": {
    "name": "ipython",
    "version": 3
   },
   "file_extension": ".py",
   "mimetype": "text/x-python",
   "name": "python",
   "nbconvert_exporter": "python",
   "pygments_lexer": "ipython3",
   "version": "3.8.5"
  }
 },
 "nbformat": 4,
 "nbformat_minor": 4
}
